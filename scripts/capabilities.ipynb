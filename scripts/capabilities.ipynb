{
 "cells": [
  {
   "cell_type": "code",
   "execution_count": 1,
   "id": "9d0c878d",
   "metadata": {},
   "outputs": [
    {
     "name": "stdout",
     "output_type": "stream",
     "text": [
      "tool-capabilities-matrix.csv has been generated.\n"
     ]
    }
   ],
   "source": [
    "import pandas as pd\n",
    "\n",
    "df = pd.read_csv(\"../capabilities/final-tool-capabilities.csv\")\n",
    "\n",
    "matrix = pd.crosstab(df[\"capability\"], df[\"tool_name\"])\n",
    "matrix = matrix.astype(bool).astype(int)\n",
    "matrix.to_csv(\"../capabilities/tool-capabilities-matrix.csv\")\n",
    "\n",
    "print(\"tool-capabilities-matrix.csv has been generated.\")\n"
   ]
  },
  {
   "cell_type": "code",
   "execution_count": 2,
   "id": "b5b33086",
   "metadata": {},
   "outputs": [
    {
     "name": "stdout",
     "output_type": "stream",
     "text": [
      "tool-groups-matrix.csv has been generated.\n"
     ]
    }
   ],
   "source": [
    "import pandas as pd\n",
    "\n",
    "df = pd.read_csv(\"../capabilities/final-tool-capabilities.csv\")\n",
    "\n",
    "matrix = pd.crosstab(df[\"group\"], df[\"tool_name\"])\n",
    "matrix = matrix.astype(bool).astype(int)\n",
    "matrix.to_csv(\"../capabilities/tool-groups-matrix.csv\")\n",
    "\n",
    "print(\"tool-groups-matrix.csv has been generated.\")\n"
   ]
  },
  {
   "cell_type": "code",
   "execution_count": 3,
   "id": "d0d18dd7",
   "metadata": {},
   "outputs": [
    {
     "name": "stdout",
     "output_type": "stream",
     "text": [
      "Saved to ../capabilities/group_tool_capabilities.csv\n"
     ]
    }
   ],
   "source": [
    "import pandas as pd\n",
    "from pathlib import Path\n",
    "\n",
    "df = pd.read_csv(\"../capabilities/final-tool-capabilities.csv\")\n",
    "\n",
    "grouped = (\n",
    "    df.groupby([\"group\", \"tool_name\"])[\"capability\"]\n",
    "    .apply(lambda caps: \" | \".join(sorted(caps)))\n",
    "    .reset_index()\n",
    ")\n",
    "\n",
    "output_path = Path(\"../capabilities/group_tool_capabilities.csv\")\n",
    "grouped.to_csv(output_path, index=False)\n",
    "\n",
    "print(f\"Saved to {output_path}\")\n"
   ]
  }
 ],
 "metadata": {
  "kernelspec": {
   "display_name": ".venv",
   "language": "python",
   "name": "python3"
  },
  "language_info": {
   "codemirror_mode": {
    "name": "ipython",
    "version": 3
   },
   "file_extension": ".py",
   "mimetype": "text/x-python",
   "name": "python",
   "nbconvert_exporter": "python",
   "pygments_lexer": "ipython3",
   "version": "3.12.3"
  }
 },
 "nbformat": 4,
 "nbformat_minor": 5
}
